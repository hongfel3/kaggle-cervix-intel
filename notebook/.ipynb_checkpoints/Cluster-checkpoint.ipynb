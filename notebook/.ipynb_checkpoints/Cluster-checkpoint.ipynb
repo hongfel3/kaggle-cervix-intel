{
 "cells": [
  {
   "cell_type": "code",
   "execution_count": 1,
   "metadata": {
    "collapsed": true
   },
   "outputs": [],
   "source": [
    "import pandas as pd"
   ]
  },
  {
   "cell_type": "code",
   "execution_count": 9,
   "metadata": {},
   "outputs": [
    {
     "data": {
      "text/plain": [
       "(781, 3)"
      ]
     },
     "execution_count": 9,
     "metadata": {},
     "output_type": "execute_result"
    }
   ],
   "source": [
    "root_dir = '/home/fedor/src/kaggle/cervix/'\n",
    "\n",
    "\n",
    "df1 = pd.read_csv(root_dir + \"type1.csv\", header=None, names=['filename', 'cluster'])\n",
    "df1['type'] = 1\n",
    "\n",
    "df2 = pd.read_csv(root_dir + \"type2.csv\", header=None, names=['filename', 'cluster'])\n",
    "df2['type'] = 2\n",
    "\n",
    "df2 = pd.read_csv(root_dir + \"type2.csv\", header=None, names=['filename', 'cluster'])\n",
    "df2['type'] = 2\n",
    "\n",
    "df = pd.concat([df1,df2]  )\n",
    "df2.shape"
   ]
  },
  {
   "cell_type": "code",
   "execution_count": null,
   "metadata": {
    "collapsed": true
   },
   "outputs": [],
   "source": [
    "df.show()"
   ]
  }
 ],
 "metadata": {
  "kernelspec": {
   "display_name": "Python 3",
   "language": "python",
   "name": "python3"
  },
  "language_info": {
   "codemirror_mode": {
    "name": "ipython",
    "version": 3
   },
   "file_extension": ".py",
   "mimetype": "text/x-python",
   "name": "python",
   "nbconvert_exporter": "python",
   "pygments_lexer": "ipython3",
   "version": "3.5.3"
  }
 },
 "nbformat": 4,
 "nbformat_minor": 2
}
